{
 "cells": [
  {
   "cell_type": "code",
   "execution_count": 1,
   "metadata": {},
   "outputs": [
    {
     "ename": "SyntaxError",
     "evalue": "invalid syntax (<ipython-input-1-316b80ffec60>, line 2)",
     "output_type": "error",
     "traceback": [
      "\u001b[1;36m  File \u001b[1;32m\"<ipython-input-1-316b80ffec60>\"\u001b[1;36m, line \u001b[1;32m2\u001b[0m\n\u001b[1;33m    Your client is an Insurance company and they need your help in building a model to predict whether the policyholder (customer) will pay next premium on time or not.\u001b[0m\n\u001b[1;37m              ^\u001b[0m\n\u001b[1;31mSyntaxError\u001b[0m\u001b[1;31m:\u001b[0m invalid syntax\n"
     ]
    }
   ],
   "source": [
    "# Problem Statement:\n",
    "Your client is an Insurance company and they need your help in building a model to predict whether the policyholder (customer) will pay next premium on time or not."
   ]
  },
  {
   "cell_type": "markdown",
   "metadata": {},
   "source": [
    "By looking at the problem statement we can understand that \"This is a classification problem\""
   ]
  },
  {
   "cell_type": "markdown",
   "metadata": {},
   "source": [
    "# Hypothesis Generation\n",
    "1. Clients with high income will have higher chances of paying next premium\n",
    "2. Clients with high dafault rate has higher chances of the not paying next premium\n",
    "3. Clients with low income has higher chances of not paying next premium\n",
    "4. Clients with medium income has higher chances of not paying premium if premium cost high\n",
    "5. Clients with higher age has higher chances of not paying premium"
   ]
  },
  {
   "cell_type": "code",
   "execution_count": 2,
   "metadata": {},
   "outputs": [],
   "source": [
    "# Loading libraries\n",
    "import pandas as pd\n",
    "import numpy as np\n",
    "import matplotlib.pyplot as plt\n"
   ]
  },
  {
   "cell_type": "code",
   "execution_count": 3,
   "metadata": {},
   "outputs": [
    {
     "data": {
      "text/plain": [
       "'C:\\\\Users\\\\dell'"
      ]
     },
     "execution_count": 3,
     "metadata": {},
     "output_type": "execute_result"
    }
   ],
   "source": [
    "# It gives the directory\n",
    "import os\n",
    "os.getcwd()"
   ]
  },
  {
   "cell_type": "code",
   "execution_count": 4,
   "metadata": {},
   "outputs": [],
   "source": [
    "# To change the directory of the system\n",
    "os.chdir('C:\\\\Users\\\\dell\\\\Downloads')"
   ]
  },
  {
   "cell_type": "code",
   "execution_count": 5,
   "metadata": {},
   "outputs": [
    {
     "data": {
      "text/plain": [
       "'C:\\\\Users\\\\dell\\\\Downloads'"
      ]
     },
     "execution_count": 5,
     "metadata": {},
     "output_type": "execute_result"
    }
   ],
   "source": [
    "os.getcwd()"
   ]
  },
  {
   "cell_type": "markdown",
   "metadata": {},
   "source": [
    "# Data Extraction"
   ]
  },
  {
   "cell_type": "code",
   "execution_count": 6,
   "metadata": {},
   "outputs": [],
   "source": [
    "# Load the data sets\n",
    "Test = pd.read_csv(\"test.csv\")\n",
    "Train = pd.read_csv(\"train.csv\")"
   ]
  },
  {
   "cell_type": "code",
   "execution_count": 7,
   "metadata": {},
   "outputs": [
    {
     "data": {
      "text/html": [
       "<div>\n",
       "<style scoped>\n",
       "    .dataframe tbody tr th:only-of-type {\n",
       "        vertical-align: middle;\n",
       "    }\n",
       "\n",
       "    .dataframe tbody tr th {\n",
       "        vertical-align: top;\n",
       "    }\n",
       "\n",
       "    .dataframe thead th {\n",
       "        text-align: right;\n",
       "    }\n",
       "</style>\n",
       "<table border=\"1\" class=\"dataframe\">\n",
       "  <thead>\n",
       "    <tr style=\"text-align: right;\">\n",
       "      <th></th>\n",
       "      <th>id</th>\n",
       "      <th>perc_premium_paid_by_cash_credit</th>\n",
       "      <th>age_in_days</th>\n",
       "      <th>Income</th>\n",
       "      <th>Count_3-6_months_late</th>\n",
       "      <th>Count_6-12_months_late</th>\n",
       "      <th>Count_more_than_12_months_late</th>\n",
       "      <th>application_underwriting_score</th>\n",
       "      <th>no_of_premiums_paid</th>\n",
       "      <th>sourcing_channel</th>\n",
       "      <th>residence_area_type</th>\n",
       "    </tr>\n",
       "  </thead>\n",
       "  <tbody>\n",
       "    <tr>\n",
       "      <th>0</th>\n",
       "      <td>649</td>\n",
       "      <td>0.001</td>\n",
       "      <td>27384</td>\n",
       "      <td>51150</td>\n",
       "      <td>0.0</td>\n",
       "      <td>0.0</td>\n",
       "      <td>0.0</td>\n",
       "      <td>99.89</td>\n",
       "      <td>7</td>\n",
       "      <td>A</td>\n",
       "      <td>Rural</td>\n",
       "    </tr>\n",
       "    <tr>\n",
       "      <th>1</th>\n",
       "      <td>81136</td>\n",
       "      <td>0.124</td>\n",
       "      <td>23735</td>\n",
       "      <td>285140</td>\n",
       "      <td>0.0</td>\n",
       "      <td>0.0</td>\n",
       "      <td>0.0</td>\n",
       "      <td>98.93</td>\n",
       "      <td>19</td>\n",
       "      <td>A</td>\n",
       "      <td>Urban</td>\n",
       "    </tr>\n",
       "    <tr>\n",
       "      <th>2</th>\n",
       "      <td>70762</td>\n",
       "      <td>1.000</td>\n",
       "      <td>17170</td>\n",
       "      <td>186030</td>\n",
       "      <td>0.0</td>\n",
       "      <td>0.0</td>\n",
       "      <td>0.0</td>\n",
       "      <td>NaN</td>\n",
       "      <td>2</td>\n",
       "      <td>B</td>\n",
       "      <td>Urban</td>\n",
       "    </tr>\n",
       "    <tr>\n",
       "      <th>3</th>\n",
       "      <td>53935</td>\n",
       "      <td>0.198</td>\n",
       "      <td>16068</td>\n",
       "      <td>123540</td>\n",
       "      <td>0.0</td>\n",
       "      <td>0.0</td>\n",
       "      <td>0.0</td>\n",
       "      <td>99.00</td>\n",
       "      <td>11</td>\n",
       "      <td>B</td>\n",
       "      <td>Rural</td>\n",
       "    </tr>\n",
       "    <tr>\n",
       "      <th>4</th>\n",
       "      <td>15476</td>\n",
       "      <td>0.041</td>\n",
       "      <td>10591</td>\n",
       "      <td>200020</td>\n",
       "      <td>1.0</td>\n",
       "      <td>0.0</td>\n",
       "      <td>0.0</td>\n",
       "      <td>99.17</td>\n",
       "      <td>14</td>\n",
       "      <td>A</td>\n",
       "      <td>Rural</td>\n",
       "    </tr>\n",
       "  </tbody>\n",
       "</table>\n",
       "</div>"
      ],
      "text/plain": [
       "      id  perc_premium_paid_by_cash_credit  age_in_days  Income  \\\n",
       "0    649                             0.001        27384   51150   \n",
       "1  81136                             0.124        23735  285140   \n",
       "2  70762                             1.000        17170  186030   \n",
       "3  53935                             0.198        16068  123540   \n",
       "4  15476                             0.041        10591  200020   \n",
       "\n",
       "   Count_3-6_months_late  Count_6-12_months_late  \\\n",
       "0                    0.0                     0.0   \n",
       "1                    0.0                     0.0   \n",
       "2                    0.0                     0.0   \n",
       "3                    0.0                     0.0   \n",
       "4                    1.0                     0.0   \n",
       "\n",
       "   Count_more_than_12_months_late  application_underwriting_score  \\\n",
       "0                             0.0                           99.89   \n",
       "1                             0.0                           98.93   \n",
       "2                             0.0                             NaN   \n",
       "3                             0.0                           99.00   \n",
       "4                             0.0                           99.17   \n",
       "\n",
       "   no_of_premiums_paid sourcing_channel residence_area_type  \n",
       "0                    7                A               Rural  \n",
       "1                   19                A               Urban  \n",
       "2                    2                B               Urban  \n",
       "3                   11                B               Rural  \n",
       "4                   14                A               Rural  "
      ]
     },
     "execution_count": 7,
     "metadata": {},
     "output_type": "execute_result"
    }
   ],
   "source": [
    "# Check the data weather it loaded or not\n",
    "Test.head()"
   ]
  },
  {
   "cell_type": "code",
   "execution_count": 8,
   "metadata": {},
   "outputs": [
    {
     "data": {
      "text/html": [
       "<div>\n",
       "<style scoped>\n",
       "    .dataframe tbody tr th:only-of-type {\n",
       "        vertical-align: middle;\n",
       "    }\n",
       "\n",
       "    .dataframe tbody tr th {\n",
       "        vertical-align: top;\n",
       "    }\n",
       "\n",
       "    .dataframe thead th {\n",
       "        text-align: right;\n",
       "    }\n",
       "</style>\n",
       "<table border=\"1\" class=\"dataframe\">\n",
       "  <thead>\n",
       "    <tr style=\"text-align: right;\">\n",
       "      <th></th>\n",
       "      <th>id</th>\n",
       "      <th>perc_premium_paid_by_cash_credit</th>\n",
       "      <th>age_in_days</th>\n",
       "      <th>Income</th>\n",
       "      <th>Count_3-6_months_late</th>\n",
       "      <th>Count_6-12_months_late</th>\n",
       "      <th>Count_more_than_12_months_late</th>\n",
       "      <th>application_underwriting_score</th>\n",
       "      <th>no_of_premiums_paid</th>\n",
       "      <th>sourcing_channel</th>\n",
       "      <th>residence_area_type</th>\n",
       "      <th>premium</th>\n",
       "      <th>target</th>\n",
       "    </tr>\n",
       "  </thead>\n",
       "  <tbody>\n",
       "    <tr>\n",
       "      <th>0</th>\n",
       "      <td>110936</td>\n",
       "      <td>0.429</td>\n",
       "      <td>12058</td>\n",
       "      <td>355060</td>\n",
       "      <td>0.0</td>\n",
       "      <td>0.0</td>\n",
       "      <td>0.0</td>\n",
       "      <td>99.02</td>\n",
       "      <td>13</td>\n",
       "      <td>C</td>\n",
       "      <td>Urban</td>\n",
       "      <td>3300</td>\n",
       "      <td>1</td>\n",
       "    </tr>\n",
       "    <tr>\n",
       "      <th>1</th>\n",
       "      <td>41492</td>\n",
       "      <td>0.010</td>\n",
       "      <td>21546</td>\n",
       "      <td>315150</td>\n",
       "      <td>0.0</td>\n",
       "      <td>0.0</td>\n",
       "      <td>0.0</td>\n",
       "      <td>99.89</td>\n",
       "      <td>21</td>\n",
       "      <td>A</td>\n",
       "      <td>Urban</td>\n",
       "      <td>18000</td>\n",
       "      <td>1</td>\n",
       "    </tr>\n",
       "    <tr>\n",
       "      <th>2</th>\n",
       "      <td>31300</td>\n",
       "      <td>0.917</td>\n",
       "      <td>17531</td>\n",
       "      <td>84140</td>\n",
       "      <td>2.0</td>\n",
       "      <td>3.0</td>\n",
       "      <td>1.0</td>\n",
       "      <td>98.69</td>\n",
       "      <td>7</td>\n",
       "      <td>C</td>\n",
       "      <td>Rural</td>\n",
       "      <td>3300</td>\n",
       "      <td>0</td>\n",
       "    </tr>\n",
       "    <tr>\n",
       "      <th>3</th>\n",
       "      <td>19415</td>\n",
       "      <td>0.049</td>\n",
       "      <td>15341</td>\n",
       "      <td>250510</td>\n",
       "      <td>0.0</td>\n",
       "      <td>0.0</td>\n",
       "      <td>0.0</td>\n",
       "      <td>99.57</td>\n",
       "      <td>9</td>\n",
       "      <td>A</td>\n",
       "      <td>Urban</td>\n",
       "      <td>9600</td>\n",
       "      <td>1</td>\n",
       "    </tr>\n",
       "    <tr>\n",
       "      <th>4</th>\n",
       "      <td>99379</td>\n",
       "      <td>0.052</td>\n",
       "      <td>31400</td>\n",
       "      <td>198680</td>\n",
       "      <td>0.0</td>\n",
       "      <td>0.0</td>\n",
       "      <td>0.0</td>\n",
       "      <td>99.87</td>\n",
       "      <td>12</td>\n",
       "      <td>B</td>\n",
       "      <td>Urban</td>\n",
       "      <td>9600</td>\n",
       "      <td>1</td>\n",
       "    </tr>\n",
       "  </tbody>\n",
       "</table>\n",
       "</div>"
      ],
      "text/plain": [
       "       id  perc_premium_paid_by_cash_credit  age_in_days  Income  \\\n",
       "0  110936                             0.429        12058  355060   \n",
       "1   41492                             0.010        21546  315150   \n",
       "2   31300                             0.917        17531   84140   \n",
       "3   19415                             0.049        15341  250510   \n",
       "4   99379                             0.052        31400  198680   \n",
       "\n",
       "   Count_3-6_months_late  Count_6-12_months_late  \\\n",
       "0                    0.0                     0.0   \n",
       "1                    0.0                     0.0   \n",
       "2                    2.0                     3.0   \n",
       "3                    0.0                     0.0   \n",
       "4                    0.0                     0.0   \n",
       "\n",
       "   Count_more_than_12_months_late  application_underwriting_score  \\\n",
       "0                             0.0                           99.02   \n",
       "1                             0.0                           99.89   \n",
       "2                             1.0                           98.69   \n",
       "3                             0.0                           99.57   \n",
       "4                             0.0                           99.87   \n",
       "\n",
       "   no_of_premiums_paid sourcing_channel residence_area_type  premium  target  \n",
       "0                   13                C               Urban     3300       1  \n",
       "1                   21                A               Urban    18000       1  \n",
       "2                    7                C               Rural     3300       0  \n",
       "3                    9                A               Urban     9600       1  \n",
       "4                   12                B               Urban     9600       1  "
      ]
     },
     "execution_count": 8,
     "metadata": {},
     "output_type": "execute_result"
    }
   ],
   "source": [
    "Train.head()"
   ]
  },
  {
   "cell_type": "code",
   "execution_count": 9,
   "metadata": {},
   "outputs": [
    {
     "name": "stdout",
     "output_type": "stream",
     "text": [
      "<class 'pandas.core.frame.DataFrame'>\n",
      "RangeIndex: 34224 entries, 0 to 34223\n",
      "Data columns (total 11 columns):\n",
      "id                                  34224 non-null int64\n",
      "perc_premium_paid_by_cash_credit    34224 non-null float64\n",
      "age_in_days                         34224 non-null int64\n",
      "Income                              34224 non-null int64\n",
      "Count_3-6_months_late               34193 non-null float64\n",
      "Count_6-12_months_late              34193 non-null float64\n",
      "Count_more_than_12_months_late      34193 non-null float64\n",
      "application_underwriting_score      32901 non-null float64\n",
      "no_of_premiums_paid                 34224 non-null int64\n",
      "sourcing_channel                    34224 non-null object\n",
      "residence_area_type                 34224 non-null object\n",
      "dtypes: float64(5), int64(4), object(2)\n",
      "memory usage: 2.9+ MB\n"
     ]
    }
   ],
   "source": [
    "Test.info()"
   ]
  },
  {
   "cell_type": "code",
   "execution_count": 10,
   "metadata": {},
   "outputs": [
    {
     "name": "stdout",
     "output_type": "stream",
     "text": [
      "<class 'pandas.core.frame.DataFrame'>\n",
      "RangeIndex: 79853 entries, 0 to 79852\n",
      "Data columns (total 13 columns):\n",
      "id                                  79853 non-null int64\n",
      "perc_premium_paid_by_cash_credit    79853 non-null float64\n",
      "age_in_days                         79853 non-null int64\n",
      "Income                              79853 non-null int64\n",
      "Count_3-6_months_late               79756 non-null float64\n",
      "Count_6-12_months_late              79756 non-null float64\n",
      "Count_more_than_12_months_late      79756 non-null float64\n",
      "application_underwriting_score      76879 non-null float64\n",
      "no_of_premiums_paid                 79853 non-null int64\n",
      "sourcing_channel                    79853 non-null object\n",
      "residence_area_type                 79853 non-null object\n",
      "premium                             79853 non-null int64\n",
      "target                              79853 non-null int64\n",
      "dtypes: float64(5), int64(6), object(2)\n",
      "memory usage: 7.9+ MB\n"
     ]
    }
   ],
   "source": [
    "Train.info()"
   ]
  },
  {
   "cell_type": "markdown",
   "metadata": {},
   "source": [
    "If you observe carefully Test data set have only 11 columns where as Train data set has 13 columns. \n",
    "we will remove the primium column in Train data set "
   ]
  },
  {
   "cell_type": "code",
   "execution_count": 11,
   "metadata": {},
   "outputs": [],
   "source": [
    "Train = Train.drop(['premium'], axis =1)"
   ]
  },
  {
   "cell_type": "markdown",
   "metadata": {},
   "source": [
    "# Exploratory Data Analysis"
   ]
  },
  {
   "cell_type": "markdown",
   "metadata": {},
   "source": [
    "Steps in EDA:\n",
    "\n",
    "1. Variable Identification\n",
    "2. Univariate Analysis for Continious Variables\n",
    "3. Univariate Analysis for Categorical Variables\n",
    "4. Bivariate analysis for both Continious and categorical variables\n",
    "5. Trating missing values\n",
    "6. Outlier Treatment\n",
    "7. Variable Transformation\n",
    "    "
   ]
  },
  {
   "cell_type": "code",
   "execution_count": 12,
   "metadata": {},
   "outputs": [],
   "source": [
    "# Variable Description\n",
    "\n",
    "\n",
    "# id                               -  Unique ID of the policy\n",
    "# perc_premium_paid_by_cash_credit -  Percentage of premium amount paid by cash or credit card\n",
    "# age_in_days\t                     -  Age in days of policy holder\n",
    "# Income\t                         -  Monthly Income of policy holder\n",
    "# Count_3-6_months_late            -  No of premiums late by 3 to 6 months\n",
    "# Count_6-12_months_late           -  No  of premiums late by 6 to 12 months\n",
    "# Count_more_than_12_months_late   -  No of premiums late by more than 12 months\n",
    "# application_underwriting_score   -  No applications under the score of 90 are insured\n",
    "# no_of_premiums_paid              -  Total premiums paid on time till now\n",
    "# sourcing_channel                 -  Sourcing channel for application\n",
    "# residence_area_type              -  Area type of Residence (Urban/Rural)"
   ]
  },
  {
   "cell_type": "markdown",
   "metadata": {},
   "source": [
    "# Vaiable Identification"
   ]
  },
  {
   "cell_type": "code",
   "execution_count": 13,
   "metadata": {},
   "outputs": [
    {
     "data": {
      "text/plain": [
       "id                                    int64\n",
       "perc_premium_paid_by_cash_credit    float64\n",
       "age_in_days                           int64\n",
       "Income                                int64\n",
       "Count_3-6_months_late               float64\n",
       "Count_6-12_months_late              float64\n",
       "Count_more_than_12_months_late      float64\n",
       "application_underwriting_score      float64\n",
       "no_of_premiums_paid                   int64\n",
       "sourcing_channel                     object\n",
       "residence_area_type                  object\n",
       "target                                int64\n",
       "dtype: object"
      ]
     },
     "execution_count": 13,
     "metadata": {},
     "output_type": "execute_result"
    }
   ],
   "source": [
    "# Identify continious and categorical variables\n",
    "Train.dtypes"
   ]
  },
  {
   "cell_type": "markdown",
   "metadata": {},
   "source": [
    "By above output we notice that sourcing_channel, residence_area_type are categorical variables"
   ]
  },
  {
   "cell_type": "code",
   "execution_count": 14,
   "metadata": {},
   "outputs": [
    {
     "data": {
      "text/plain": [
       "0.0     66801\n",
       "1.0      8826\n",
       "2.0      2519\n",
       "3.0       954\n",
       "4.0       374\n",
       "5.0       168\n",
       "6.0        68\n",
       "7.0        23\n",
       "8.0        15\n",
       "9.0         4\n",
       "11.0        1\n",
       "12.0        1\n",
       "13.0        1\n",
       "10.0        1\n",
       "Name: Count_3-6_months_late, dtype: int64"
      ]
     },
     "execution_count": 14,
     "metadata": {},
     "output_type": "execute_result"
    }
   ],
   "source": [
    "# Genrally data types int, float are continious variables but some times intiger varibles also in categorical in nature\n",
    "Train[\"Count_3-6_months_late\"].value_counts()"
   ]
  },
  {
   "cell_type": "code",
   "execution_count": 15,
   "metadata": {},
   "outputs": [
    {
     "data": {
      "text/plain": [
       "0.0     75831\n",
       "1.0      2680\n",
       "2.0       693\n",
       "3.0       317\n",
       "4.0       130\n",
       "5.0        46\n",
       "6.0        26\n",
       "7.0        11\n",
       "8.0         5\n",
       "10.0        4\n",
       "9.0         4\n",
       "14.0        2\n",
       "11.0        2\n",
       "13.0        2\n",
       "17.0        1\n",
       "12.0        1\n",
       "15.0        1\n",
       "Name: Count_6-12_months_late, dtype: int64"
      ]
     },
     "execution_count": 15,
     "metadata": {},
     "output_type": "execute_result"
    }
   ],
   "source": [
    "Train[\"Count_6-12_months_late\"].value_counts()"
   ]
  },
  {
   "cell_type": "code",
   "execution_count": 16,
   "metadata": {},
   "outputs": [
    {
     "data": {
      "text/plain": [
       "0.0     76038\n",
       "1.0      2996\n",
       "2.0       498\n",
       "3.0       151\n",
       "4.0        48\n",
       "5.0        13\n",
       "6.0         6\n",
       "7.0         3\n",
       "8.0         2\n",
       "11.0        1\n",
       "Name: Count_more_than_12_months_late, dtype: int64"
      ]
     },
     "execution_count": 16,
     "metadata": {},
     "output_type": "execute_result"
    }
   ],
   "source": [
    "Train[\"Count_more_than_12_months_late\"].value_counts()"
   ]
  },
  {
   "cell_type": "code",
   "execution_count": 17,
   "metadata": {},
   "outputs": [
    {
     "data": {
      "text/plain": [
       "8     7184\n",
       "9     7158\n",
       "10    6873\n",
       "7     6623\n",
       "11    6395\n",
       "6     5635\n",
       "12    5407\n",
       "13    4752\n",
       "5     4215\n",
       "14    3988\n",
       "15    3264\n",
       "4     2907\n",
       "16    2678\n",
       "17    2148\n",
       "18    1799\n",
       "3     1746\n",
       "19    1355\n",
       "20    1134\n",
       "21     838\n",
       "2      726\n",
       "22     713\n",
       "23     503\n",
       "24     386\n",
       "25     305\n",
       "26     241\n",
       "27     186\n",
       "28     152\n",
       "29     119\n",
       "30      91\n",
       "31      61\n",
       "32      51\n",
       "33      43\n",
       "34      38\n",
       "35      31\n",
       "36      23\n",
       "37      14\n",
       "38       8\n",
       "42       7\n",
       "40       6\n",
       "41       6\n",
       "39       5\n",
       "47       5\n",
       "44       4\n",
       "43       3\n",
       "45       3\n",
       "56       3\n",
       "48       3\n",
       "50       3\n",
       "51       3\n",
       "58       2\n",
       "52       2\n",
       "53       2\n",
       "54       2\n",
       "59       1\n",
       "55       1\n",
       "49       1\n",
       "60       1\n",
       "Name: no_of_premiums_paid, dtype: int64"
      ]
     },
     "execution_count": 17,
     "metadata": {},
     "output_type": "execute_result"
    }
   ],
   "source": [
    "Train[\"no_of_premiums_paid\"].value_counts()"
   ]
  },
  {
   "cell_type": "markdown",
   "metadata": {},
   "source": [
    "# In this section we noticed that below variables are categorical in nature\n",
    "\n",
    "Count_3-6_months_late               \n",
    "Count_6-12_months_late              \n",
    "Count_more_than_12_months_late      \n",
    "application_underwriting_score      \n",
    "no_of_premiums_paid                   \n",
    "sourcing_channel                     \n",
    "residence_area_type                  \n",
    "premium                               \n",
    "targe"
   ]
  },
  {
   "cell_type": "code",
   "execution_count": 18,
   "metadata": {},
   "outputs": [],
   "source": [
    "# If you notice age_in_days variable is in days, lets transform it to years \n",
    "\n",
    "Train['age_in_days'] = Train[\"age_in_days\"]/365\n"
   ]
  },
  {
   "cell_type": "code",
   "execution_count": 19,
   "metadata": {},
   "outputs": [],
   "source": [
    "Test['age_in_days'] = Test[\"age_in_days\"]/365"
   ]
  },
  {
   "cell_type": "code",
   "execution_count": 20,
   "metadata": {},
   "outputs": [],
   "source": [
    "# Now rename 'age_in _days variable to Age'\n",
    "Train = Train.rename(columns={\"age_in_days\": \"Age\"})"
   ]
  },
  {
   "cell_type": "code",
   "execution_count": 21,
   "metadata": {},
   "outputs": [],
   "source": [
    "Test = Test.rename(columns={\"age_in_days\": \"Age\"})"
   ]
  },
  {
   "cell_type": "markdown",
   "metadata": {},
   "source": [
    "# Univariate Analysis of Continious variables"
   ]
  },
  {
   "cell_type": "code",
   "execution_count": 22,
   "metadata": {},
   "outputs": [
    {
     "data": {
      "text/html": [
       "<div>\n",
       "<style scoped>\n",
       "    .dataframe tbody tr th:only-of-type {\n",
       "        vertical-align: middle;\n",
       "    }\n",
       "\n",
       "    .dataframe tbody tr th {\n",
       "        vertical-align: top;\n",
       "    }\n",
       "\n",
       "    .dataframe thead th {\n",
       "        text-align: right;\n",
       "    }\n",
       "</style>\n",
       "<table border=\"1\" class=\"dataframe\">\n",
       "  <thead>\n",
       "    <tr style=\"text-align: right;\">\n",
       "      <th></th>\n",
       "      <th>perc_premium_paid_by_cash_credit</th>\n",
       "      <th>Age</th>\n",
       "      <th>Income</th>\n",
       "      <th>application_underwriting_score</th>\n",
       "    </tr>\n",
       "  </thead>\n",
       "  <tbody>\n",
       "    <tr>\n",
       "      <th>count</th>\n",
       "      <td>79853.000000</td>\n",
       "      <td>79853.000000</td>\n",
       "      <td>7.985300e+04</td>\n",
       "      <td>76879.000000</td>\n",
       "    </tr>\n",
       "    <tr>\n",
       "      <th>mean</th>\n",
       "      <td>0.314288</td>\n",
       "      <td>51.634786</td>\n",
       "      <td>2.088472e+05</td>\n",
       "      <td>99.067291</td>\n",
       "    </tr>\n",
       "    <tr>\n",
       "      <th>std</th>\n",
       "      <td>0.334915</td>\n",
       "      <td>14.270463</td>\n",
       "      <td>4.965826e+05</td>\n",
       "      <td>0.739799</td>\n",
       "    </tr>\n",
       "    <tr>\n",
       "      <th>min</th>\n",
       "      <td>0.000000</td>\n",
       "      <td>21.013699</td>\n",
       "      <td>2.403000e+04</td>\n",
       "      <td>91.900000</td>\n",
       "    </tr>\n",
       "    <tr>\n",
       "      <th>25%</th>\n",
       "      <td>0.034000</td>\n",
       "      <td>41.024658</td>\n",
       "      <td>1.080100e+05</td>\n",
       "      <td>98.810000</td>\n",
       "    </tr>\n",
       "    <tr>\n",
       "      <th>50%</th>\n",
       "      <td>0.167000</td>\n",
       "      <td>51.027397</td>\n",
       "      <td>1.665600e+05</td>\n",
       "      <td>99.210000</td>\n",
       "    </tr>\n",
       "    <tr>\n",
       "      <th>75%</th>\n",
       "      <td>0.538000</td>\n",
       "      <td>62.016438</td>\n",
       "      <td>2.520900e+05</td>\n",
       "      <td>99.540000</td>\n",
       "    </tr>\n",
       "    <tr>\n",
       "      <th>max</th>\n",
       "      <td>1.000000</td>\n",
       "      <td>103.019178</td>\n",
       "      <td>9.026260e+07</td>\n",
       "      <td>99.890000</td>\n",
       "    </tr>\n",
       "  </tbody>\n",
       "</table>\n",
       "</div>"
      ],
      "text/plain": [
       "       perc_premium_paid_by_cash_credit           Age        Income  \\\n",
       "count                      79853.000000  79853.000000  7.985300e+04   \n",
       "mean                           0.314288     51.634786  2.088472e+05   \n",
       "std                            0.334915     14.270463  4.965826e+05   \n",
       "min                            0.000000     21.013699  2.403000e+04   \n",
       "25%                            0.034000     41.024658  1.080100e+05   \n",
       "50%                            0.167000     51.027397  1.665600e+05   \n",
       "75%                            0.538000     62.016438  2.520900e+05   \n",
       "max                            1.000000    103.019178  9.026260e+07   \n",
       "\n",
       "       application_underwriting_score  \n",
       "count                    76879.000000  \n",
       "mean                        99.067291  \n",
       "std                          0.739799  \n",
       "min                         91.900000  \n",
       "25%                         98.810000  \n",
       "50%                         99.210000  \n",
       "75%                         99.540000  \n",
       "max                         99.890000  "
      ]
     },
     "execution_count": 22,
     "metadata": {},
     "output_type": "execute_result"
    }
   ],
   "source": [
    "Train[[\"perc_premium_paid_by_cash_credit\",\"Age\", \"Income\", \"application_underwriting_score\"]].describe()"
   ]
  },
  {
   "cell_type": "code",
   "execution_count": 23,
   "metadata": {},
   "outputs": [
    {
     "data": {
      "text/plain": [
       "<matplotlib.axes._subplots.AxesSubplot at 0x25fc24e2550>"
      ]
     },
     "execution_count": 23,
     "metadata": {},
     "output_type": "execute_result"
    },
    {
     "data": {
      "image/png": "[encoded data removed]",
      "text/plain": [
       "<Figure size 432x288 with 1 Axes>"
      ]
     },
     "metadata": {
      "needs_background": "light"
     },
     "output_type": "display_data"
    }
   ],
   "source": [
    "Train['perc_premium_paid_by_cash_credit'].plot.hist()"
   ]
  },
  {
   "cell_type": "code",
   "execution_count": 24,
   "metadata": {},
   "outputs": [
    {
     "data": {
      "text/plain": [
       "<matplotlib.axes._subplots.AxesSubplot at 0x25fc220d780>"
      ]
     },
     "execution_count": 24,
     "metadata": {},
     "output_type": "execute_result"
    },
    {
     "data": {
      "image/png": "[encoded data removed]",
      "text/plain": [
       "<Figure size 432x288 with 1 Axes>"
      ]
     },
     "metadata": {
      "needs_background": "light"
     },
     "output_type": "display_data"
    }
   ],
   "source": [
    "Train['perc_premium_paid_by_cash_credit'].plot.box()"
   ]
  },
  {
   "cell_type": "code",
   "execution_count": 25,
   "metadata": {},
   "outputs": [
    {
     "data": {
      "text/plain": [
       "<matplotlib.axes._subplots.AxesSubplot at 0x25fc228bb00>"
      ]
     },
     "execution_count": 25,
     "metadata": {},
     "output_type": "execute_result"
    },
    {
     "data": {
      "image/png": "[encoded data removed]",
      "text/plain": [
       "<Figure size 432x288 with 1 Axes>"
      ]
     },
     "metadata": {
      "needs_background": "light"
     },
     "output_type": "display_data"
    }
   ],
   "source": [
    "Train['Age'].plot.hist()"
   ]
  },
  {
   "cell_type": "code",
   "execution_count": 26,
   "metadata": {},
   "outputs": [
    {
     "data": {
      "text/plain": [
       "<matplotlib.axes._subplots.AxesSubplot at 0x25fc230e278>"
      ]
     },
     "execution_count": 26,
     "metadata": {},
     "output_type": "execute_result"
    },
    {
     "data": {
      "image/png": "[encoded data removed]",
      "text/plain": [
       "<Figure size 432x288 with 1 Axes>"
      ]
     },
     "metadata": {
      "needs_background": "light"
     },
     "output_type": "display_data"
    }
   ],
   "source": [
    "Train['Age'].plot.box()"
   ]
  },
  {
   "cell_type": "code",
   "execution_count": 27,
   "metadata": {},
   "outputs": [
    {
     "data": {
      "text/plain": [
       "<matplotlib.axes._subplots.AxesSubplot at 0x25fc23bcba8>"
      ]
     },
     "execution_count": 27,
     "metadata": {},
     "output_type": "execute_result"
    },
    {
     "data": {
      "image/png": "[encoded data removed]",
      "text/plain": [
       "<Figure size 432x288 with 1 Axes>"
      ]
     },
     "metadata": {
      "needs_background": "light"
     },
     "output_type": "display_data"
    }
   ],
   "source": [
    "Train['application_underwriting_score'].plot.hist()"
   ]
  },
  {
   "cell_type": "code",
   "execution_count": 28,
   "metadata": {},
   "outputs": [
    {
     "data": {
      "text/plain": [
       "<matplotlib.axes._subplots.AxesSubplot at 0x25fc2432c18>"
      ]
     },
     "execution_count": 28,
     "metadata": {},
     "output_type": "execute_result"
    },
    {
     "data": {
      "image/png": "[encoded data removed]",
      "text/plain": [
       "<Figure size 432x288 with 1 Axes>"
      ]
     },
     "metadata": {
      "needs_background": "light"
     },
     "output_type": "display_data"
    }
   ],
   "source": [
    "Train['application_underwriting_score'].plot.box()"
   ]
  },
  {
   "cell_type": "markdown",
   "metadata": {},
   "source": [
    "# Note:\n",
    "1. perc_premium_paid_by_cash_credit this variable has no outliers\n",
    "2. Age distribution is normal above 90 is a outlier\n",
    "3. application_underwriting_score is skewed left side and score below 98 is an outlier"
   ]
  },
  {
   "cell_type": "markdown",
   "metadata": {},
   "source": [
    "# Univariate Analysis for Categorical Variables\n"
   ]
  },
  {
   "cell_type": "code",
   "execution_count": 29,
   "metadata": {},
   "outputs": [
    {
     "data": {
      "text/plain": [
       "<matplotlib.axes._subplots.AxesSubplot at 0x25fc2490978>"
      ]
     },
     "execution_count": 29,
     "metadata": {},
     "output_type": "execute_result"
    },
    {
     "data": {
      "image/png": "[encoded data removed]",
      "text/plain": [
       "<Figure size 432x288 with 1 Axes>"
      ]
     },
     "metadata": {
      "needs_background": "light"
     },
     "output_type": "display_data"
    }
   ],
   "source": [
    "# Creating frequency tables and bar plots for the categorical variables\n",
    "Train['Count_3-6_months_late'].value_counts().plot.bar()"
   ]
  },
  {
   "cell_type": "code",
   "execution_count": 30,
   "metadata": {},
   "outputs": [
    {
     "data": {
      "text/plain": [
       "<matplotlib.axes._subplots.AxesSubplot at 0x25fc2a2d940>"
      ]
     },
     "execution_count": 30,
     "metadata": {},
     "output_type": "execute_result"
    },
    {
     "data": {
      "image/png": "[encoded data removed]",
      "text/plain": [
       "<Figure size 432x288 with 1 Axes>"
      ]
     },
     "metadata": {
      "needs_background": "light"
     },
     "output_type": "display_data"
    }
   ],
   "source": [
    "Train['Count_6-12_months_late'].value_counts().plot.bar()"
   ]
  },
  {
   "cell_type": "code",
   "execution_count": 31,
   "metadata": {},
   "outputs": [
    {
     "data": {
      "text/plain": [
       "<matplotlib.axes._subplots.AxesSubplot at 0x25fc2acc320>"
      ]
     },
     "execution_count": 31,
     "metadata": {},
     "output_type": "execute_result"
    },
    {
     "data": {
      "image/png": "[encoded data removed]",
      "text/plain": [
       "<Figure size 432x288 with 1 Axes>"
      ]
     },
     "metadata": {
      "needs_background": "light"
     },
     "output_type": "display_data"
    }
   ],
   "source": [
    "Train['Count_more_than_12_months_late'].value_counts().plot.bar()"
   ]
  },
  {
   "cell_type": "code",
   "execution_count": 32,
   "metadata": {},
   "outputs": [
    {
     "data": {
      "text/plain": [
       "<matplotlib.axes._subplots.AxesSubplot at 0x25fc2caab70>"
      ]
     },
     "execution_count": 32,
     "metadata": {},
     "output_type": "execute_result"
    },
    {
     "data": {
      "image/png": "[encoded data removed]",
      "text/plain": [
       "<Figure size 432x288 with 1 Axes>"
      ]
     },
     "metadata": {
      "needs_background": "light"
     },
     "output_type": "display_data"
    }
   ],
   "source": [
    "Train['application_underwriting_score'].value_counts().plot.hist()"
   ]
  },
  {
   "cell_type": "code",
   "execution_count": 33,
   "metadata": {},
   "outputs": [
    {
     "data": {
      "text/plain": [
       "<matplotlib.axes._subplots.AxesSubplot at 0x25fc2ca04e0>"
      ]
     },
     "execution_count": 33,
     "metadata": {},
     "output_type": "execute_result"
    },
    {
     "data": {
      "image/png": "[encoded data removed]",
      "text/plain": [
       "<Figure size 864x504 with 1 Axes>"
      ]
     },
     "metadata": {
      "needs_background": "light"
     },
     "output_type": "display_data"
    }
   ],
   "source": [
    "fig= plt.figure(figsize=(12,7))\n",
    "Train['no_of_premiums_paid'].value_counts().plot.bar()"
   ]
  },
  {
   "cell_type": "code",
   "execution_count": 34,
   "metadata": {},
   "outputs": [
    {
     "data": {
      "text/plain": [
       "<matplotlib.axes._subplots.AxesSubplot at 0x25fc38047f0>"
      ]
     },
     "execution_count": 34,
     "metadata": {},
     "output_type": "execute_result"
    },
    {
     "data": {
      "image/png": "[encoded data removed]",
      "text/plain": [
       "<Figure size 432x288 with 1 Axes>"
      ]
     },
     "metadata": {
      "needs_background": "light"
     },
     "output_type": "display_data"
    }
   ],
   "source": [
    "Train['sourcing_channel'].value_counts().plot.bar()"
   ]
  },
  {
   "cell_type": "code",
   "execution_count": 35,
   "metadata": {},
   "outputs": [
    {
     "data": {
      "text/plain": [
       "<matplotlib.axes._subplots.AxesSubplot at 0x25fc382f128>"
      ]
     },
     "execution_count": 35,
     "metadata": {},
     "output_type": "execute_result"
    },
    {
     "data": {
      "image/png": "[encoded data removed]",
      "text/plain": [
       "<Figure size 432x288 with 1 Axes>"
      ]
     },
     "metadata": {
      "needs_background": "light"
     },
     "output_type": "display_data"
    }
   ],
   "source": [
    "Train['residence_area_type'].value_counts().plot.bar()"
   ]
  },
  {
   "cell_type": "code",
   "execution_count": 36,
   "metadata": {},
   "outputs": [
    {
     "data": {
      "text/plain": [
       "<matplotlib.axes._subplots.AxesSubplot at 0x25fc1ebee10>"
      ]
     },
     "execution_count": 36,
     "metadata": {},
     "output_type": "execute_result"
    },
    {
     "data": {
      "image/png": "[encoded data removed]",
      "text/plain": [
       "<Figure size 432x288 with 1 Axes>"
      ]
     },
     "metadata": {
      "needs_background": "light"
     },
     "output_type": "display_data"
    }
   ],
   "source": [
    "(Train['residence_area_type'].value_counts()/len(Train['residence_area_type'])).plot.bar()"
   ]
  },
  {
   "cell_type": "code",
   "execution_count": 37,
   "metadata": {},
   "outputs": [
    {
     "data": {
      "text/plain": [
       "<matplotlib.axes._subplots.AxesSubplot at 0x25fc2dc1f60>"
      ]
     },
     "execution_count": 37,
     "metadata": {},
     "output_type": "execute_result"
    },
    {
     "data": {
      "image/png": "[encoded data removed]",
      "text/plain": [
       "<Figure size 432x288 with 1 Axes>"
      ]
     },
     "metadata": {
      "needs_background": "light"
     },
     "output_type": "display_data"
    }
   ],
   "source": [
    "Train['target'].value_counts().plot.bar()"
   ]
  },
  {
   "cell_type": "code",
   "execution_count": 38,
   "metadata": {},
   "outputs": [
    {
     "data": {
      "text/plain": [
       "<matplotlib.axes._subplots.AxesSubplot at 0x25fc36f9c18>"
      ]
     },
     "execution_count": 38,
     "metadata": {},
     "output_type": "execute_result"
    },
    {
     "data": {
      "image/png": "[encoded data removed]",
      "text/plain": [
       "<Figure size 432x288 with 1 Axes>"
      ]
     },
     "metadata": {
      "needs_background": "light"
     },
     "output_type": "display_data"
    }
   ],
   "source": [
    "(Train['target'].value_counts()/len(Train['target'])).plot.bar()"
   ]
  },
  {
   "cell_type": "markdown",
   "metadata": {},
   "source": [
    "# Note\n",
    "\n",
    "1.( Count_3-6_months_late\n",
    "Count_6-12_months_late\n",
    "Count_more_than_12_months_late) most of the times these variables are 0, very rarely people misses to pay for3-12 months\n",
    "\n",
    "2. no_of_premiums_paid' most number of clients paid 8 times then trend keep decresing \n",
    "\n",
    "3. sourcing_channel: 50% of the clients came from channel A\n",
    "\n",
    "4. residence_area_type: Nearly 60% clients are from the urban area\n",
    "\n",
    "5. Less then 10% clients are defaulters\n",
    "\n"
   ]
  },
  {
   "cell_type": "markdown",
   "metadata": {},
   "source": [
    "# Continious - Continious Bivariate Analysis"
   ]
  },
  {
   "cell_type": "code",
   "execution_count": 39,
   "metadata": {},
   "outputs": [
    {
     "data": {
      "text/html": [
       "<div>\n",
       "<style scoped>\n",
       "    .dataframe tbody tr th:only-of-type {\n",
       "        vertical-align: middle;\n",
       "    }\n",
       "\n",
       "    .dataframe tbody tr th {\n",
       "        vertical-align: top;\n",
       "    }\n",
       "\n",
       "    .dataframe thead th {\n",
       "        text-align: right;\n",
       "    }\n",
       "</style>\n",
       "<table border=\"1\" class=\"dataframe\">\n",
       "  <thead>\n",
       "    <tr style=\"text-align: right;\">\n",
       "      <th></th>\n",
       "      <th>perc_premium_paid_by_cash_credit</th>\n",
       "      <th>Age</th>\n",
       "      <th>Income</th>\n",
       "      <th>application_underwriting_score</th>\n",
       "      <th>target</th>\n",
       "    </tr>\n",
       "  </thead>\n",
       "  <tbody>\n",
       "    <tr>\n",
       "      <th>perc_premium_paid_by_cash_credit</th>\n",
       "      <td>1.000000</td>\n",
       "      <td>-0.259131</td>\n",
       "      <td>-0.031868</td>\n",
       "      <td>-0.142670</td>\n",
       "      <td>-0.240980</td>\n",
       "    </tr>\n",
       "    <tr>\n",
       "      <th>Age</th>\n",
       "      <td>-0.259131</td>\n",
       "      <td>1.000000</td>\n",
       "      <td>0.029308</td>\n",
       "      <td>0.049888</td>\n",
       "      <td>0.095103</td>\n",
       "    </tr>\n",
       "    <tr>\n",
       "      <th>Income</th>\n",
       "      <td>-0.031868</td>\n",
       "      <td>0.029308</td>\n",
       "      <td>1.000000</td>\n",
       "      <td>0.085746</td>\n",
       "      <td>0.016541</td>\n",
       "    </tr>\n",
       "    <tr>\n",
       "      <th>application_underwriting_score</th>\n",
       "      <td>-0.142670</td>\n",
       "      <td>0.049888</td>\n",
       "      <td>0.085746</td>\n",
       "      <td>1.000000</td>\n",
       "      <td>0.068715</td>\n",
       "    </tr>\n",
       "    <tr>\n",
       "      <th>target</th>\n",
       "      <td>-0.240980</td>\n",
       "      <td>0.095103</td>\n",
       "      <td>0.016541</td>\n",
       "      <td>0.068715</td>\n",
       "      <td>1.000000</td>\n",
       "    </tr>\n",
       "  </tbody>\n",
       "</table>\n",
       "</div>"
      ],
      "text/plain": [
       "                                  perc_premium_paid_by_cash_credit       Age  \\\n",
       "perc_premium_paid_by_cash_credit                          1.000000 -0.259131   \n",
       "Age                                                      -0.259131  1.000000   \n",
       "Income                                                   -0.031868  0.029308   \n",
       "application_underwriting_score                           -0.142670  0.049888   \n",
       "target                                                   -0.240980  0.095103   \n",
       "\n",
       "                                    Income  application_underwriting_score  \\\n",
       "perc_premium_paid_by_cash_credit -0.031868                       -0.142670   \n",
       "Age                               0.029308                        0.049888   \n",
       "Income                            1.000000                        0.085746   \n",
       "application_underwriting_score    0.085746                        1.000000   \n",
       "target                            0.016541                        0.068715   \n",
       "\n",
       "                                    target  \n",
       "perc_premium_paid_by_cash_credit -0.240980  \n",
       "Age                               0.095103  \n",
       "Income                            0.016541  \n",
       "application_underwriting_score    0.068715  \n",
       "target                            1.000000  "
      ]
     },
     "execution_count": 39,
     "metadata": {},
     "output_type": "execute_result"
    }
   ],
   "source": [
    "Train[[\"perc_premium_paid_by_cash_credit\",\"Age\", \"Income\", \"application_underwriting_score\",\"target\"]].corr()"
   ]
  },
  {
   "cell_type": "code",
   "execution_count": 40,
   "metadata": {},
   "outputs": [
    {
     "data": {
      "text/html": [
       "<div>\n",
       "<style scoped>\n",
       "    .dataframe tbody tr th:only-of-type {\n",
       "        vertical-align: middle;\n",
       "    }\n",
       "\n",
       "    .dataframe tbody tr th {\n",
       "        vertical-align: top;\n",
       "    }\n",
       "\n",
       "    .dataframe thead th {\n",
       "        text-align: right;\n",
       "    }\n",
       "</style>\n",
       "<table border=\"1\" class=\"dataframe\">\n",
       "  <thead>\n",
       "    <tr style=\"text-align: right;\">\n",
       "      <th></th>\n",
       "      <th>id</th>\n",
       "      <th>perc_premium_paid_by_cash_credit</th>\n",
       "      <th>Age</th>\n",
       "      <th>Income</th>\n",
       "      <th>Count_3-6_months_late</th>\n",
       "      <th>Count_6-12_months_late</th>\n",
       "      <th>Count_more_than_12_months_late</th>\n",
       "      <th>application_underwriting_score</th>\n",
       "      <th>no_of_premiums_paid</th>\n",
       "      <th>sourcing_channel</th>\n",
       "      <th>residence_area_type</th>\n",
       "      <th>target</th>\n",
       "    </tr>\n",
       "  </thead>\n",
       "  <tbody>\n",
       "    <tr>\n",
       "      <th>0</th>\n",
       "      <td>110936</td>\n",
       "      <td>0.429</td>\n",
       "      <td>33.035616</td>\n",
       "      <td>355060</td>\n",
       "      <td>0.0</td>\n",
       "      <td>0.0</td>\n",
       "      <td>0.0</td>\n",
       "      <td>99.02</td>\n",
       "      <td>13</td>\n",
       "      <td>C</td>\n",
       "      <td>Urban</td>\n",
       "      <td>1</td>\n",
       "    </tr>\n",
       "    <tr>\n",
       "      <th>1</th>\n",
       "      <td>41492</td>\n",
       "      <td>0.010</td>\n",
       "      <td>59.030137</td>\n",
       "      <td>315150</td>\n",
       "      <td>0.0</td>\n",
       "      <td>0.0</td>\n",
       "      <td>0.0</td>\n",
       "      <td>99.89</td>\n",
       "      <td>21</td>\n",
       "      <td>A</td>\n",
       "      <td>Urban</td>\n",
       "      <td>1</td>\n",
       "    </tr>\n",
       "    <tr>\n",
       "      <th>2</th>\n",
       "      <td>31300</td>\n",
       "      <td>0.917</td>\n",
       "      <td>48.030137</td>\n",
       "      <td>84140</td>\n",
       "      <td>2.0</td>\n",
       "      <td>3.0</td>\n",
       "      <td>1.0</td>\n",
       "      <td>98.69</td>\n",
       "      <td>7</td>\n",
       "      <td>C</td>\n",
       "      <td>Rural</td>\n",
       "      <td>0</td>\n",
       "    </tr>\n",
       "    <tr>\n",
       "      <th>3</th>\n",
       "      <td>19415</td>\n",
       "      <td>0.049</td>\n",
       "      <td>42.030137</td>\n",
       "      <td>250510</td>\n",
       "      <td>0.0</td>\n",
       "      <td>0.0</td>\n",
       "      <td>0.0</td>\n",
       "      <td>99.57</td>\n",
       "      <td>9</td>\n",
       "      <td>A</td>\n",
       "      <td>Urban</td>\n",
       "      <td>1</td>\n",
       "    </tr>\n",
       "    <tr>\n",
       "      <th>4</th>\n",
       "      <td>99379</td>\n",
       "      <td>0.052</td>\n",
       "      <td>86.027397</td>\n",
       "      <td>198680</td>\n",
       "      <td>0.0</td>\n",
       "      <td>0.0</td>\n",
       "      <td>0.0</td>\n",
       "      <td>99.87</td>\n",
       "      <td>12</td>\n",
       "      <td>B</td>\n",
       "      <td>Urban</td>\n",
       "      <td>1</td>\n",
       "    </tr>\n",
       "  </tbody>\n",
       "</table>\n",
       "</div>"
      ],
      "text/plain": [
       "       id  perc_premium_paid_by_cash_credit        Age  Income  \\\n",
       "0  110936                             0.429  33.035616  355060   \n",
       "1   41492                             0.010  59.030137  315150   \n",
       "2   31300                             0.917  48.030137   84140   \n",
       "3   19415                             0.049  42.030137  250510   \n",
       "4   99379                             0.052  86.027397  198680   \n",
       "\n",
       "   Count_3-6_months_late  Count_6-12_months_late  \\\n",
       "0                    0.0                     0.0   \n",
       "1                    0.0                     0.0   \n",
       "2                    2.0                     3.0   \n",
       "3                    0.0                     0.0   \n",
       "4                    0.0                     0.0   \n",
       "\n",
       "   Count_more_than_12_months_late  application_underwriting_score  \\\n",
       "0                             0.0                           99.02   \n",
       "1                             0.0                           99.89   \n",
       "2                             1.0                           98.69   \n",
       "3                             0.0                           99.57   \n",
       "4                             0.0                           99.87   \n",
       "\n",
       "   no_of_premiums_paid sourcing_channel residence_area_type  target  \n",
       "0                   13                C               Urban       1  \n",
       "1                   21                A               Urban       1  \n",
       "2                    7                C               Rural       0  \n",
       "3                    9                A               Urban       1  \n",
       "4                   12                B               Urban       1  "
      ]
     },
     "execution_count": 40,
     "metadata": {},
     "output_type": "execute_result"
    }
   ],
   "source": [
    "Train.head()"
   ]
  },
  {
   "cell_type": "code",
   "execution_count": 41,
   "metadata": {},
   "outputs": [
    {
     "data": {
      "text/plain": [
       "<matplotlib.axes._subplots.AxesSubplot at 0x25fc37770b8>"
      ]
     },
     "execution_count": 41,
     "metadata": {},
     "output_type": "execute_result"
    },
    {
     "data": {
      "image/png": "[encoded data removed]",
      "text/plain": [
       "<Figure size 432x288 with 1 Axes>"
      ]
     },
     "metadata": {
      "needs_background": "light"
     },
     "output_type": "display_data"
    }
   ],
   "source": [
    "# Categorical - Continious Bivariate analysis\n",
    "\n",
    "Train.groupby(\"Count_3-6_months_late\")['Income'].mean().plot.bar()\n",
    "\n",
    "# No clear trend but some clients has higher and higher default rate\n",
    "#Some clients has low Income and higher default rate"
   ]
  },
  {
   "cell_type": "code",
   "execution_count": 42,
   "metadata": {},
   "outputs": [
    {
     "data": {
      "text/plain": [
       "<matplotlib.axes._subplots.AxesSubplot at 0x25fc399f0b8>"
      ]
     },
     "execution_count": 42,
     "metadata": {},
     "output_type": "execute_result"
    },
    {
     "data": {
      "image/png": "[encoded data removed]",
      "text/plain": [
       "<Figure size 432x288 with 1 Axes>"
      ]
     },
     "metadata": {
      "needs_background": "light"
     },
     "output_type": "display_data"
    }
   ],
   "source": [
    "Train.groupby(\"Count_6-12_months_late\")['Income'].mean().plot.bar()\n",
    "\n",
    "# No clear trend but some clients has higher and higher default rate\n",
    "#Some clients has low Income and higher default rate"
   ]
  },
  {
   "cell_type": "code",
   "execution_count": 43,
   "metadata": {},
   "outputs": [
    {
     "data": {
      "text/plain": [
       "<matplotlib.axes._subplots.AxesSubplot at 0x25fc3a41588>"
      ]
     },
     "execution_count": 43,
     "metadata": {},
     "output_type": "execute_result"
    },
    {
     "data": {
      "image/png": "[encoded data removed]",
      "text/plain": [
       "<Figure size 432x288 with 1 Axes>"
      ]
     },
     "metadata": {
      "needs_background": "light"
     },
     "output_type": "display_data"
    }
   ],
   "source": [
    "Train.groupby(\"Count_more_than_12_months_late\")['Income'].mean().plot.bar()\n",
    "\n",
    "# This attribute has some clear trend higher the Income Higher the default rate"
   ]
  },
  {
   "cell_type": "code",
   "execution_count": 44,
   "metadata": {},
   "outputs": [
    {
     "data": {
      "text/plain": [
       "<matplotlib.axes._subplots.AxesSubplot at 0x25fc3ac50b8>"
      ]
     },
     "execution_count": 44,
     "metadata": {},
     "output_type": "execute_result"
    },
    {
     "data": {
      "image/png": "[encoded data removed]",
      "text/plain": [
       "<Figure size 432x288 with 1 Axes>"
      ]
     },
     "metadata": {
      "needs_background": "light"
     },
     "output_type": "display_data"
    }
   ],
   "source": [
    "Train.groupby(\"sourcing_channel\")['Income'].mean().plot.bar()\n",
    "\n",
    "# Sorcing chanel E has high Income"
   ]
  },
  {
   "cell_type": "code",
   "execution_count": 45,
   "metadata": {},
   "outputs": [
    {
     "data": {
      "text/plain": [
       "<matplotlib.axes._subplots.AxesSubplot at 0x25fc3b20748>"
      ]
     },
     "execution_count": 45,
     "metadata": {},
     "output_type": "execute_result"
    },
    {
     "data": {
      "image/png": "[encoded data removed]",
      "text/plain": [
       "<Figure size 432x288 with 1 Axes>"
      ]
     },
     "metadata": {
      "needs_background": "light"
     },
     "output_type": "display_data"
    }
   ],
   "source": [
    "Train.groupby(\"residence_area_type\")['Income'].mean().plot.bar()\n",
    "\n",
    "# Incomes of Rural and Urban Clients has almost same."
   ]
  },
  {
   "cell_type": "code",
   "execution_count": 46,
   "metadata": {},
   "outputs": [
    {
     "data": {
      "text/plain": [
       "<matplotlib.axes._subplots.AxesSubplot at 0x25fc3ac5c50>"
      ]
     },
     "execution_count": 46,
     "metadata": {},
     "output_type": "execute_result"
    },
    {
     "data": {
      "image/png": "[encoded data removed]",
      "text/plain": [
       "<Figure size 432x288 with 1 Axes>"
      ]
     },
     "metadata": {
      "needs_background": "light"
     },
     "output_type": "display_data"
    }
   ],
   "source": [
    "Train.groupby(\"target\")['Income'].mean().plot.bar()\n",
    "\n",
    "# Income less then 175k has higher chances of default rate "
   ]
  },
  {
   "cell_type": "code",
   "execution_count": 47,
   "metadata": {},
   "outputs": [
    {
     "data": {
      "text/plain": [
       "<matplotlib.axes._subplots.AxesSubplot at 0x25fc3be6080>"
      ]
     },
     "execution_count": 47,
     "metadata": {},
     "output_type": "execute_result"
    },
    {
     "data": {
      "image/png": "[encoded data removed]",
      "text/plain": [
       "<Figure size 432x288 with 1 Axes>"
      ]
     },
     "metadata": {
      "needs_background": "light"
     },
     "output_type": "display_data"
    }
   ],
   "source": [
    "Train.groupby(\"target\")['Age'].mean().plot.bar()\n",
    "\n",
    "# Age less then 50 has higher chances of default rate"
   ]
  },
  {
   "cell_type": "code",
   "execution_count": 48,
   "metadata": {},
   "outputs": [
    {
     "data": {
      "text/plain": [
       "<matplotlib.axes._subplots.AxesSubplot at 0x25fc3c41a20>"
      ]
     },
     "execution_count": 48,
     "metadata": {},
     "output_type": "execute_result"
    },
    {
     "data": {
      "image/png": "[encoded data removed]",
      "text/plain": [
       "<Figure size 1296x504 with 1 Axes>"
      ]
     },
     "metadata": {
      "needs_background": "light"
     },
     "output_type": "display_data"
    }
   ],
   "source": [
    "fig= plt.figure(figsize=(18,7))\n",
    "Train.groupby(\"no_of_premiums_paid\")['Age'].mean().plot.bar()\n",
    "\n",
    "# Age increses no of times of premium pay increses"
   ]
  },
  {
   "cell_type": "markdown",
   "metadata": {},
   "source": [
    "# Categorial - Categorial Bivariate Analysis"
   ]
  },
  {
   "cell_type": "code",
   "execution_count": 49,
   "metadata": {},
   "outputs": [
    {
     "data": {
      "text/html": [
       "<div>\n",
       "<style scoped>\n",
       "    .dataframe tbody tr th:only-of-type {\n",
       "        vertical-align: middle;\n",
       "    }\n",
       "\n",
       "    .dataframe tbody tr th {\n",
       "        vertical-align: top;\n",
       "    }\n",
       "\n",
       "    .dataframe thead th {\n",
       "        text-align: right;\n",
       "    }\n",
       "</style>\n",
       "<table border=\"1\" class=\"dataframe\">\n",
       "  <thead>\n",
       "    <tr style=\"text-align: right;\">\n",
       "      <th>target</th>\n",
       "      <th>0</th>\n",
       "      <th>1</th>\n",
       "    </tr>\n",
       "    <tr>\n",
       "      <th>sourcing_channel</th>\n",
       "      <th></th>\n",
       "      <th></th>\n",
       "    </tr>\n",
       "  </thead>\n",
       "  <tbody>\n",
       "    <tr>\n",
       "      <th>A</th>\n",
       "      <td>2349</td>\n",
       "      <td>40785</td>\n",
       "    </tr>\n",
       "    <tr>\n",
       "      <th>B</th>\n",
       "      <td>1066</td>\n",
       "      <td>15446</td>\n",
       "    </tr>\n",
       "    <tr>\n",
       "      <th>C</th>\n",
       "      <td>903</td>\n",
       "      <td>11136</td>\n",
       "    </tr>\n",
       "    <tr>\n",
       "      <th>D</th>\n",
       "      <td>634</td>\n",
       "      <td>6925</td>\n",
       "    </tr>\n",
       "    <tr>\n",
       "      <th>E</th>\n",
       "      <td>46</td>\n",
       "      <td>563</td>\n",
       "    </tr>\n",
       "  </tbody>\n",
       "</table>\n",
       "</div>"
      ],
      "text/plain": [
       "target               0      1\n",
       "sourcing_channel             \n",
       "A                 2349  40785\n",
       "B                 1066  15446\n",
       "C                  903  11136\n",
       "D                  634   6925\n",
       "E                   46    563"
      ]
     },
     "execution_count": 49,
     "metadata": {},
     "output_type": "execute_result"
    }
   ],
   "source": [
    "# Create 2-way tables\n",
    "pd.crosstab(Train['sourcing_channel'], Train[\"target\"])\n",
    "\n",
    "# With this we can understad that sourcing chanel 'A' has low Income and high chances of default\n",
    "# Overall percentage wise channel B has higher chances of default"
   ]
  },
  {
   "cell_type": "code",
   "execution_count": 50,
   "metadata": {},
   "outputs": [
    {
     "data": {
      "text/html": [
       "<div>\n",
       "<style scoped>\n",
       "    .dataframe tbody tr th:only-of-type {\n",
       "        vertical-align: middle;\n",
       "    }\n",
       "\n",
       "    .dataframe tbody tr th {\n",
       "        vertical-align: top;\n",
       "    }\n",
       "\n",
       "    .dataframe thead th {\n",
       "        text-align: right;\n",
       "    }\n",
       "</style>\n",
       "<table border=\"1\" class=\"dataframe\">\n",
       "  <thead>\n",
       "    <tr style=\"text-align: right;\">\n",
       "      <th>target</th>\n",
       "      <th>0</th>\n",
       "      <th>1</th>\n",
       "    </tr>\n",
       "    <tr>\n",
       "      <th>residence_area_type</th>\n",
       "      <th></th>\n",
       "      <th></th>\n",
       "    </tr>\n",
       "  </thead>\n",
       "  <tbody>\n",
       "    <tr>\n",
       "      <th>Rural</th>\n",
       "      <td>1998</td>\n",
       "      <td>29672</td>\n",
       "    </tr>\n",
       "    <tr>\n",
       "      <th>Urban</th>\n",
       "      <td>3000</td>\n",
       "      <td>45183</td>\n",
       "    </tr>\n",
       "  </tbody>\n",
       "</table>\n",
       "</div>"
      ],
      "text/plain": [
       "target                  0      1\n",
       "residence_area_type             \n",
       "Rural                1998  29672\n",
       "Urban                3000  45183"
      ]
     },
     "execution_count": 50,
     "metadata": {},
     "output_type": "execute_result"
    }
   ],
   "source": [
    "pd.crosstab(Train['residence_area_type'], Train[\"target\"])\n",
    "\n",
    "#Rural clients has higher chances of default "
   ]
  },
  {
   "cell_type": "markdown",
   "metadata": {},
   "source": [
    "# Missing values treatment"
   ]
  },
  {
   "cell_type": "code",
   "execution_count": 51,
   "metadata": {},
   "outputs": [
    {
     "data": {
      "text/plain": [
       "id                                     0\n",
       "perc_premium_paid_by_cash_credit       0\n",
       "Age                                    0\n",
       "Income                                 0\n",
       "Count_3-6_months_late                 97\n",
       "Count_6-12_months_late                97\n",
       "Count_more_than_12_months_late        97\n",
       "application_underwriting_score      2974\n",
       "no_of_premiums_paid                    0\n",
       "sourcing_channel                       0\n",
       "residence_area_type                    0\n",
       "target                                 0\n",
       "dtype: int64"
      ]
     },
     "execution_count": 51,
     "metadata": {},
     "output_type": "execute_result"
    }
   ],
   "source": [
    "Train.isnull().sum()"
   ]
  },
  {
   "cell_type": "code",
   "execution_count": 52,
   "metadata": {},
   "outputs": [],
   "source": [
    "# Replace the  application_underwriting_score with the mean\n",
    "Train['application_underwriting_score'].fillna(99, inplace = True)"
   ]
  },
  {
   "cell_type": "code",
   "execution_count": 53,
   "metadata": {},
   "outputs": [],
   "source": [
    "# Replace in Test set too\n",
    "Test['application_underwriting_score'].fillna(99, inplace = True)"
   ]
  },
  {
   "cell_type": "code",
   "execution_count": 54,
   "metadata": {},
   "outputs": [],
   "source": [
    "# Now drop null values in Train data set\n",
    "Train = Train.dropna()"
   ]
  },
  {
   "cell_type": "code",
   "execution_count": 55,
   "metadata": {},
   "outputs": [],
   "source": [
    "#In test data set replace with 0\n",
    "Test.fillna(0,inplace = True)"
   ]
  },
  {
   "cell_type": "code",
   "execution_count": 56,
   "metadata": {},
   "outputs": [
    {
     "data": {
      "text/plain": [
       "id                                  0\n",
       "perc_premium_paid_by_cash_credit    0\n",
       "Age                                 0\n",
       "Income                              0\n",
       "Count_3-6_months_late               0\n",
       "Count_6-12_months_late              0\n",
       "Count_more_than_12_months_late      0\n",
       "application_underwriting_score      0\n",
       "no_of_premiums_paid                 0\n",
       "sourcing_channel                    0\n",
       "residence_area_type                 0\n",
       "dtype: int64"
      ]
     },
     "execution_count": 56,
     "metadata": {},
     "output_type": "execute_result"
    }
   ],
   "source": [
    "# Now check for null values in both test and train data sets\n",
    "Test.isnull().sum()"
   ]
  },
  {
   "cell_type": "code",
   "execution_count": 57,
   "metadata": {},
   "outputs": [
    {
     "data": {
      "text/plain": [
       "id                                  0\n",
       "perc_premium_paid_by_cash_credit    0\n",
       "Age                                 0\n",
       "Income                              0\n",
       "Count_3-6_months_late               0\n",
       "Count_6-12_months_late              0\n",
       "Count_more_than_12_months_late      0\n",
       "application_underwriting_score      0\n",
       "no_of_premiums_paid                 0\n",
       "sourcing_channel                    0\n",
       "residence_area_type                 0\n",
       "target                              0\n",
       "dtype: int64"
      ]
     },
     "execution_count": 57,
     "metadata": {},
     "output_type": "execute_result"
    }
   ],
   "source": [
    "Train.isnull().sum()"
   ]
  },
  {
   "cell_type": "code",
   "execution_count": 58,
   "metadata": {},
   "outputs": [],
   "source": [
    "# Drop un wanted columns\n",
    "Train = Train.drop(['no_of_premiums_paid'], axis = 1)"
   ]
  },
  {
   "cell_type": "code",
   "execution_count": 59,
   "metadata": {},
   "outputs": [],
   "source": [
    "Test = Test.drop(['no_of_premiums_paid'], axis = 1)"
   ]
  },
  {
   "cell_type": "markdown",
   "metadata": {},
   "source": [
    "# Outlier Treatment"
   ]
  },
  {
   "cell_type": "code",
   "execution_count": 60,
   "metadata": {},
   "outputs": [],
   "source": [
    "# replace  age above anything 90 with mean\n",
    "import numpy as np\n",
    "Train.loc[Train[\"Age\"] >90, 'Age'] = np.mean(Train[\"Age\"])"
   ]
  },
  {
   "cell_type": "code",
   "execution_count": 61,
   "metadata": {},
   "outputs": [
    {
     "data": {
      "text/plain": [
       "<matplotlib.axes._subplots.AxesSubplot at 0x25fc367d6d8>"
      ]
     },
     "execution_count": 61,
     "metadata": {},
     "output_type": "execute_result"
    },
    {
     "data": {
      "image/png": "[encoded data removed]",
      "text/plain": [
       "<Figure size 432x288 with 1 Axes>"
      ]
     },
     "metadata": {
      "needs_background": "light"
     },
     "output_type": "display_data"
    }
   ],
   "source": [
    "np.power(Train['Income'],1/5).plot.hist()"
   ]
  },
  {
   "cell_type": "markdown",
   "metadata": {},
   "source": [
    "# Data Transformation"
   ]
  },
  {
   "cell_type": "code",
   "execution_count": 62,
   "metadata": {},
   "outputs": [],
   "source": [
    "# We have convert categorical variables to numbers, editing manually takes lot of time so we will use LabelEncoder function\n",
    "from sklearn.preprocessing import LabelEncoder\n",
    "number = LabelEncoder()\n",
    "Train[\"sourcing_channel\"] = number.fit_transform(Train[\"sourcing_channel\"].astype('str'))\n",
    "Test[\"sourcing_channel\"] = number.fit_transform(Test[\"sourcing_channel\"].astype(\"str\"))\n"
   ]
  },
  {
   "cell_type": "code",
   "execution_count": 63,
   "metadata": {},
   "outputs": [],
   "source": [
    "Train[\"residence_area_type\"] = number.fit_transform(Train[\"residence_area_type\"].astype('str'))\n",
    "Test[\"residence_area_type\"] = number.fit_transform(Test[\"residence_area_type\"].astype(\"str\"))"
   ]
  },
  {
   "cell_type": "code",
   "execution_count": 64,
   "metadata": {},
   "outputs": [
    {
     "data": {
      "text/html": [
       "<div>\n",
       "<style scoped>\n",
       "    .dataframe tbody tr th:only-of-type {\n",
       "        vertical-align: middle;\n",
       "    }\n",
       "\n",
       "    .dataframe tbody tr th {\n",
       "        vertical-align: top;\n",
       "    }\n",
       "\n",
       "    .dataframe thead th {\n",
       "        text-align: right;\n",
       "    }\n",
       "</style>\n",
       "<table border=\"1\" class=\"dataframe\">\n",
       "  <thead>\n",
       "    <tr style=\"text-align: right;\">\n",
       "      <th></th>\n",
       "      <th>id</th>\n",
       "      <th>perc_premium_paid_by_cash_credit</th>\n",
       "      <th>Age</th>\n",
       "      <th>Income</th>\n",
       "      <th>Count_3-6_months_late</th>\n",
       "      <th>Count_6-12_months_late</th>\n",
       "      <th>Count_more_than_12_months_late</th>\n",
       "      <th>application_underwriting_score</th>\n",
       "      <th>sourcing_channel</th>\n",
       "      <th>residence_area_type</th>\n",
       "      <th>target</th>\n",
       "    </tr>\n",
       "  </thead>\n",
       "  <tbody>\n",
       "    <tr>\n",
       "      <th>id</th>\n",
       "      <td>1.000000</td>\n",
       "      <td>-0.004772</td>\n",
       "      <td>0.004306</td>\n",
       "      <td>-0.001816</td>\n",
       "      <td>-0.005660</td>\n",
       "      <td>-0.002125</td>\n",
       "      <td>0.003424</td>\n",
       "      <td>-0.002084</td>\n",
       "      <td>0.001364</td>\n",
       "      <td>0.001803</td>\n",
       "      <td>-0.005365</td>\n",
       "    </tr>\n",
       "    <tr>\n",
       "      <th>perc_premium_paid_by_cash_credit</th>\n",
       "      <td>-0.004772</td>\n",
       "      <td>1.000000</td>\n",
       "      <td>-0.255676</td>\n",
       "      <td>-0.031341</td>\n",
       "      <td>0.214470</td>\n",
       "      <td>0.214951</td>\n",
       "      <td>0.168125</td>\n",
       "      <td>-0.138657</td>\n",
       "      <td>0.082878</td>\n",
       "      <td>-0.002013</td>\n",
       "      <td>-0.237210</td>\n",
       "    </tr>\n",
       "    <tr>\n",
       "      <th>Age</th>\n",
       "      <td>0.004306</td>\n",
       "      <td>-0.255676</td>\n",
       "      <td>1.000000</td>\n",
       "      <td>0.030214</td>\n",
       "      <td>-0.057878</td>\n",
       "      <td>-0.072484</td>\n",
       "      <td>-0.059602</td>\n",
       "      <td>0.043666</td>\n",
       "      <td>-0.215420</td>\n",
       "      <td>0.000577</td>\n",
       "      <td>0.093163</td>\n",
       "    </tr>\n",
       "    <tr>\n",
       "      <th>Income</th>\n",
       "      <td>-0.001816</td>\n",
       "      <td>-0.031341</td>\n",
       "      <td>0.030214</td>\n",
       "      <td>1.000000</td>\n",
       "      <td>-0.001403</td>\n",
       "      <td>-0.017347</td>\n",
       "      <td>-0.012399</td>\n",
       "      <td>0.062699</td>\n",
       "      <td>0.059663</td>\n",
       "      <td>0.003470</td>\n",
       "      <td>0.015911</td>\n",
       "    </tr>\n",
       "    <tr>\n",
       "      <th>Count_3-6_months_late</th>\n",
       "      <td>-0.005660</td>\n",
       "      <td>0.214470</td>\n",
       "      <td>-0.057878</td>\n",
       "      <td>-0.001403</td>\n",
       "      <td>1.000000</td>\n",
       "      <td>0.204228</td>\n",
       "      <td>0.296085</td>\n",
       "      <td>-0.081463</td>\n",
       "      <td>0.058662</td>\n",
       "      <td>0.001592</td>\n",
       "      <td>-0.248900</td>\n",
       "    </tr>\n",
       "    <tr>\n",
       "      <th>Count_6-12_months_late</th>\n",
       "      <td>-0.002125</td>\n",
       "      <td>0.214951</td>\n",
       "      <td>-0.072484</td>\n",
       "      <td>-0.017347</td>\n",
       "      <td>0.204228</td>\n",
       "      <td>1.000000</td>\n",
       "      <td>0.266306</td>\n",
       "      <td>0.004382</td>\n",
       "      <td>0.027627</td>\n",
       "      <td>-0.000770</td>\n",
       "      <td>-0.286159</td>\n",
       "    </tr>\n",
       "    <tr>\n",
       "      <th>Count_more_than_12_months_late</th>\n",
       "      <td>0.003424</td>\n",
       "      <td>0.168125</td>\n",
       "      <td>-0.059602</td>\n",
       "      <td>-0.012399</td>\n",
       "      <td>0.296085</td>\n",
       "      <td>0.266306</td>\n",
       "      <td>1.000000</td>\n",
       "      <td>-0.031140</td>\n",
       "      <td>0.029198</td>\n",
       "      <td>-0.001178</td>\n",
       "      <td>-0.240385</td>\n",
       "    </tr>\n",
       "    <tr>\n",
       "      <th>application_underwriting_score</th>\n",
       "      <td>-0.002084</td>\n",
       "      <td>-0.138657</td>\n",
       "      <td>0.043666</td>\n",
       "      <td>0.062699</td>\n",
       "      <td>-0.081463</td>\n",
       "      <td>0.004382</td>\n",
       "      <td>-0.031140</td>\n",
       "      <td>1.000000</td>\n",
       "      <td>-0.046309</td>\n",
       "      <td>0.004807</td>\n",
       "      <td>0.068549</td>\n",
       "    </tr>\n",
       "    <tr>\n",
       "      <th>sourcing_channel</th>\n",
       "      <td>0.001364</td>\n",
       "      <td>0.082878</td>\n",
       "      <td>-0.215420</td>\n",
       "      <td>0.059663</td>\n",
       "      <td>0.058662</td>\n",
       "      <td>0.027627</td>\n",
       "      <td>0.029198</td>\n",
       "      <td>-0.046309</td>\n",
       "      <td>1.000000</td>\n",
       "      <td>-0.002055</td>\n",
       "      <td>-0.042296</td>\n",
       "    </tr>\n",
       "    <tr>\n",
       "      <th>residence_area_type</th>\n",
       "      <td>0.001803</td>\n",
       "      <td>-0.002013</td>\n",
       "      <td>0.000577</td>\n",
       "      <td>0.003470</td>\n",
       "      <td>0.001592</td>\n",
       "      <td>-0.000770</td>\n",
       "      <td>-0.001178</td>\n",
       "      <td>0.004807</td>\n",
       "      <td>-0.002055</td>\n",
       "      <td>1.000000</td>\n",
       "      <td>0.002238</td>\n",
       "    </tr>\n",
       "    <tr>\n",
       "      <th>target</th>\n",
       "      <td>-0.005365</td>\n",
       "      <td>-0.237210</td>\n",
       "      <td>0.093163</td>\n",
       "      <td>0.015911</td>\n",
       "      <td>-0.248900</td>\n",
       "      <td>-0.286159</td>\n",
       "      <td>-0.240385</td>\n",
       "      <td>0.068549</td>\n",
       "      <td>-0.042296</td>\n",
       "      <td>0.002238</td>\n",
       "      <td>1.000000</td>\n",
       "    </tr>\n",
       "  </tbody>\n",
       "</table>\n",
       "</div>"
      ],
      "text/plain": [
       "                                        id  perc_premium_paid_by_cash_credit  \\\n",
       "id                                1.000000                         -0.004772   \n",
       "perc_premium_paid_by_cash_credit -0.004772                          1.000000   \n",
       "Age                               0.004306                         -0.255676   \n",
       "Income                           -0.001816                         -0.031341   \n",
       "Count_3-6_months_late            -0.005660                          0.214470   \n",
       "Count_6-12_months_late           -0.002125                          0.214951   \n",
       "Count_more_than_12_months_late    0.003424                          0.168125   \n",
       "application_underwriting_score   -0.002084                         -0.138657   \n",
       "sourcing_channel                  0.001364                          0.082878   \n",
       "residence_area_type               0.001803                         -0.002013   \n",
       "target                           -0.005365                         -0.237210   \n",
       "\n",
       "                                       Age    Income  Count_3-6_months_late  \\\n",
       "id                                0.004306 -0.001816              -0.005660   \n",
       "perc_premium_paid_by_cash_credit -0.255676 -0.031341               0.214470   \n",
       "Age                               1.000000  0.030214              -0.057878   \n",
       "Income                            0.030214  1.000000              -0.001403   \n",
       "Count_3-6_months_late            -0.057878 -0.001403               1.000000   \n",
       "Count_6-12_months_late           -0.072484 -0.017347               0.204228   \n",
       "Count_more_than_12_months_late   -0.059602 -0.012399               0.296085   \n",
       "application_underwriting_score    0.043666  0.062699              -0.081463   \n",
       "sourcing_channel                 -0.215420  0.059663               0.058662   \n",
       "residence_area_type               0.000577  0.003470               0.001592   \n",
       "target                            0.093163  0.015911              -0.248900   \n",
       "\n",
       "                                  Count_6-12_months_late  \\\n",
       "id                                             -0.002125   \n",
       "perc_premium_paid_by_cash_credit                0.214951   \n",
       "Age                                            -0.072484   \n",
       "Income                                         -0.017347   \n",
       "Count_3-6_months_late                           0.204228   \n",
       "Count_6-12_months_late                          1.000000   \n",
       "Count_more_than_12_months_late                  0.266306   \n",
       "application_underwriting_score                  0.004382   \n",
       "sourcing_channel                                0.027627   \n",
       "residence_area_type                            -0.000770   \n",
       "target                                         -0.286159   \n",
       "\n",
       "                                  Count_more_than_12_months_late  \\\n",
       "id                                                      0.003424   \n",
       "perc_premium_paid_by_cash_credit                        0.168125   \n",
       "Age                                                    -0.059602   \n",
       "Income                                                 -0.012399   \n",
       "Count_3-6_months_late                                   0.296085   \n",
       "Count_6-12_months_late                                  0.266306   \n",
       "Count_more_than_12_months_late                          1.000000   \n",
       "application_underwriting_score                         -0.031140   \n",
       "sourcing_channel                                        0.029198   \n",
       "residence_area_type                                    -0.001178   \n",
       "target                                                 -0.240385   \n",
       "\n",
       "                                  application_underwriting_score  \\\n",
       "id                                                     -0.002084   \n",
       "perc_premium_paid_by_cash_credit                       -0.138657   \n",
       "Age                                                     0.043666   \n",
       "Income                                                  0.062699   \n",
       "Count_3-6_months_late                                  -0.081463   \n",
       "Count_6-12_months_late                                  0.004382   \n",
       "Count_more_than_12_months_late                         -0.031140   \n",
       "application_underwriting_score                          1.000000   \n",
       "sourcing_channel                                       -0.046309   \n",
       "residence_area_type                                     0.004807   \n",
       "target                                                  0.068549   \n",
       "\n",
       "                                  sourcing_channel  residence_area_type  \\\n",
       "id                                        0.001364             0.001803   \n",
       "perc_premium_paid_by_cash_credit          0.082878            -0.002013   \n",
       "Age                                      -0.215420             0.000577   \n",
       "Income                                    0.059663             0.003470   \n",
       "Count_3-6_months_late                     0.058662             0.001592   \n",
       "Count_6-12_months_late                    0.027627            -0.000770   \n",
       "Count_more_than_12_months_late            0.029198            -0.001178   \n",
       "application_underwriting_score           -0.046309             0.004807   \n",
       "sourcing_channel                          1.000000            -0.002055   \n",
       "residence_area_type                      -0.002055             1.000000   \n",
       "target                                   -0.042296             0.002238   \n",
       "\n",
       "                                    target  \n",
       "id                               -0.005365  \n",
       "perc_premium_paid_by_cash_credit -0.237210  \n",
       "Age                               0.093163  \n",
       "Income                            0.015911  \n",
       "Count_3-6_months_late            -0.248900  \n",
       "Count_6-12_months_late           -0.286159  \n",
       "Count_more_than_12_months_late   -0.240385  \n",
       "application_underwriting_score    0.068549  \n",
       "sourcing_channel                 -0.042296  \n",
       "residence_area_type               0.002238  \n",
       "target                            1.000000  "
      ]
     },
     "execution_count": 64,
     "metadata": {},
     "output_type": "execute_result"
    }
   ],
   "source": [
    "Train.corr()"
   ]
  },
  {
   "cell_type": "markdown",
   "metadata": {},
   "source": [
    "# Model Building"
   ]
  },
  {
   "cell_type": "code",
   "execution_count": 65,
   "metadata": {},
   "outputs": [],
   "source": [
    "# Drop un corelated variables to our target variable in both test and train data set\n",
    "x_train = Train.drop(['target','Age', 'Income', 'application_underwriting_score','residence_area_type','sourcing_channel'], axis =1)"
   ]
  },
  {
   "cell_type": "code",
   "execution_count": 72,
   "metadata": {},
   "outputs": [],
   "source": [
    "Test_1 = Test.drop(['Age', 'Income', 'application_underwriting_score','residence_area_type','sourcing_channel'], axis =1)"
   ]
  },
  {
   "cell_type": "code",
   "execution_count": 67,
   "metadata": {},
   "outputs": [],
   "source": [
    "y_train = Train['target']"
   ]
  },
  {
   "cell_type": "code",
   "execution_count": 68,
   "metadata": {},
   "outputs": [],
   "source": [
    "import sklearn"
   ]
  },
  {
   "cell_type": "code",
   "execution_count": 69,
   "metadata": {},
   "outputs": [],
   "source": [
    "from sklearn.tree import DecisionTreeClassifier"
   ]
  },
  {
   "cell_type": "code",
   "execution_count": 70,
   "metadata": {},
   "outputs": [],
   "source": [
    "model_1 = DecisionTreeClassifier()"
   ]
  },
  {
   "cell_type": "code",
   "execution_count": 71,
   "metadata": {},
   "outputs": [
    {
     "data": {
      "text/plain": [
       "DecisionTreeClassifier(class_weight=None, criterion='gini', max_depth=None,\n",
       "            max_features=None, max_leaf_nodes=None,\n",
       "            min_impurity_decrease=0.0, min_impurity_split=None,\n",
       "            min_samples_leaf=1, min_samples_split=2,\n",
       "            min_weight_fraction_leaf=0.0, presort=False, random_state=None,\n",
       "            splitter='best')"
      ]
     },
     "execution_count": 71,
     "metadata": {},
     "output_type": "execute_result"
    }
   ],
   "source": [
    "# Training The data set \n",
    "model_1.fit(x_train,y_train)"
   ]
  },
  {
   "cell_type": "code",
   "execution_count": 80,
   "metadata": {},
   "outputs": [],
   "source": [
    "# Create a new variable target in test set\n",
    "Test[\"target\"] = model_1.predict(Test_1)"
   ]
  },
  {
   "cell_type": "code",
   "execution_count": 75,
   "metadata": {},
   "outputs": [
    {
     "data": {
      "text/plain": [
       "1.0"
      ]
     },
     "execution_count": 75,
     "metadata": {},
     "output_type": "execute_result"
    }
   ],
   "source": [
    "# score of our model on train data set\n",
    "model_1.score(x_train,y_train)"
   ]
  },
  {
   "cell_type": "code",
   "execution_count": 81,
   "metadata": {},
   "outputs": [],
   "source": [
    "Test_2 = Test[[\"id\", \"target\"]]"
   ]
  },
  {
   "cell_type": "code",
   "execution_count": 83,
   "metadata": {},
   "outputs": [
    {
     "data": {
      "text/html": [
       "<div>\n",
       "<style scoped>\n",
       "    .dataframe tbody tr th:only-of-type {\n",
       "        vertical-align: middle;\n",
       "    }\n",
       "\n",
       "    .dataframe tbody tr th {\n",
       "        vertical-align: top;\n",
       "    }\n",
       "\n",
       "    .dataframe thead th {\n",
       "        text-align: right;\n",
       "    }\n",
       "</style>\n",
       "<table border=\"1\" class=\"dataframe\">\n",
       "  <thead>\n",
       "    <tr style=\"text-align: right;\">\n",
       "      <th></th>\n",
       "      <th>target</th>\n",
       "    </tr>\n",
       "    <tr>\n",
       "      <th>id</th>\n",
       "      <th></th>\n",
       "    </tr>\n",
       "  </thead>\n",
       "  <tbody>\n",
       "    <tr>\n",
       "      <th>649</th>\n",
       "      <td>1</td>\n",
       "    </tr>\n",
       "    <tr>\n",
       "      <th>81136</th>\n",
       "      <td>1</td>\n",
       "    </tr>\n",
       "    <tr>\n",
       "      <th>70762</th>\n",
       "      <td>1</td>\n",
       "    </tr>\n",
       "    <tr>\n",
       "      <th>53935</th>\n",
       "      <td>1</td>\n",
       "    </tr>\n",
       "    <tr>\n",
       "      <th>15476</th>\n",
       "      <td>1</td>\n",
       "    </tr>\n",
       "  </tbody>\n",
       "</table>\n",
       "</div>"
      ],
      "text/plain": [
       "       target\n",
       "id           \n",
       "649         1\n",
       "81136       1\n",
       "70762       1\n",
       "53935       1\n",
       "15476       1"
      ]
     },
     "execution_count": 83,
     "metadata": {},
     "output_type": "execute_result"
    }
   ],
   "source": [
    "Test_2.set_index('id').head()"
   ]
  },
  {
   "cell_type": "code",
   "execution_count": 84,
   "metadata": {},
   "outputs": [],
   "source": [
    "# Export our results\n",
    "export = Test_2.to_csv('target.csv')"
   ]
  }
 ],
 "metadata": {
  "kernelspec": {
   "display_name": "Python 3",
   "language": "python",
   "name": "python3"
  },
  "language_info": {
   "codemirror_mode": {
    "name": "ipython",
    "version": 3
   },
   "file_extension": ".py",
   "mimetype": "text/x-python",
   "name": "python",
   "nbconvert_exporter": "python",
   "pygments_lexer": "ipython3",
   "version": "3.7.3"
  }
 },
 "nbformat": 4,
 "nbformat_minor": 2
}
